{
 "cells": [
  {
   "cell_type": "markdown",
   "id": "f9daef42",
   "metadata": {},
   "source": [
    "## Importing Libraries"
   ]
  },
  {
   "cell_type": "code",
   "execution_count": 1,
   "id": "10681320",
   "metadata": {},
   "outputs": [],
   "source": [
    "import numpy as np\n",
    "import pandas as pd\n",
    "import nltk"
   ]
  },
  {
   "cell_type": "code",
   "execution_count": 17,
   "id": "c9778e1f",
   "metadata": {},
   "outputs": [
    {
     "name": "stderr",
     "output_type": "stream",
     "text": [
      "[nltk_data] Downloading package punkt to /Users/apple/nltk_data...\n",
      "[nltk_data]   Unzipping tokenizers/punkt.zip.\n"
     ]
    },
    {
     "data": {
      "text/plain": [
       "True"
      ]
     },
     "execution_count": 17,
     "metadata": {},
     "output_type": "execute_result"
    }
   ],
   "source": [
    "# Download the punkt resource\n",
    "\n",
    "nltk.download('punkt')"
   ]
  },
  {
   "cell_type": "markdown",
   "id": "8af014e6",
   "metadata": {},
   "source": [
    "## Loading the dataset"
   ]
  },
  {
   "cell_type": "code",
   "execution_count": 3,
   "id": "35dfec77",
   "metadata": {},
   "outputs": [
    {
     "data": {
      "text/html": [
       "<div>\n",
       "<style scoped>\n",
       "    .dataframe tbody tr th:only-of-type {\n",
       "        vertical-align: middle;\n",
       "    }\n",
       "\n",
       "    .dataframe tbody tr th {\n",
       "        vertical-align: top;\n",
       "    }\n",
       "\n",
       "    .dataframe thead th {\n",
       "        text-align: right;\n",
       "    }\n",
       "</style>\n",
       "<table border=\"1\" class=\"dataframe\">\n",
       "  <thead>\n",
       "    <tr style=\"text-align: right;\">\n",
       "      <th></th>\n",
       "      <th>id</th>\n",
       "      <th>Title</th>\n",
       "      <th>Description</th>\n",
       "      <th>Category</th>\n",
       "    </tr>\n",
       "  </thead>\n",
       "  <tbody>\n",
       "    <tr>\n",
       "      <th>0</th>\n",
       "      <td>1</td>\n",
       "      <td>Swissmar Capstore Select Storage Rack for 18-...</td>\n",
       "      <td>Swissmar's capstore select 18 storage unit kee...</td>\n",
       "      <td>Home &amp; Kitchen Kitchen &amp; Dining Kitchen Utens...</td>\n",
       "    </tr>\n",
       "    <tr>\n",
       "      <th>1</th>\n",
       "      <td>2</td>\n",
       "      <td>Gemini200 Delta CV-880 Gold Crown Livery Airc...</td>\n",
       "      <td>Welcome to the exciting world of GeminiJets! O...</td>\n",
       "      <td>Toys &amp; Games Hobbies Models &amp; Model Kits Pre-...</td>\n",
       "    </tr>\n",
       "    <tr>\n",
       "      <th>2</th>\n",
       "      <td>5</td>\n",
       "      <td>Superior Threads 10501-2172 Magnifico Cream P...</td>\n",
       "      <td>For quilting and embroidery, this product is m...</td>\n",
       "      <td>Arts, Crafts &amp; Sewing Sewing Thread &amp; Floss S...</td>\n",
       "    </tr>\n",
       "    <tr>\n",
       "      <th>3</th>\n",
       "      <td>6</td>\n",
       "      <td>Fashion Angels Color Rox Hair Chox Kit</td>\n",
       "      <td>Experiment with the haute trend of hair chalki...</td>\n",
       "      <td>Beauty &amp; Personal Care Hair Care Hair Colorin...</td>\n",
       "    </tr>\n",
       "    <tr>\n",
       "      <th>4</th>\n",
       "      <td>8</td>\n",
       "      <td>Union Creative Giant Killing Figure 05: Daisu...</td>\n",
       "      <td>From Union Creative. Turn your display shelf i...</td>\n",
       "      <td>Toys &amp; Games › Action Figures &amp; Statues › Sta...</td>\n",
       "    </tr>\n",
       "  </tbody>\n",
       "</table>\n",
       "</div>"
      ],
      "text/plain": [
       "   id                                              Title  \\\n",
       "0   1   Swissmar Capstore Select Storage Rack for 18-...   \n",
       "1   2   Gemini200 Delta CV-880 Gold Crown Livery Airc...   \n",
       "2   5   Superior Threads 10501-2172 Magnifico Cream P...   \n",
       "3   6            Fashion Angels Color Rox Hair Chox Kit    \n",
       "4   8   Union Creative Giant Killing Figure 05: Daisu...   \n",
       "\n",
       "                                         Description  \\\n",
       "0  Swissmar's capstore select 18 storage unit kee...   \n",
       "1  Welcome to the exciting world of GeminiJets! O...   \n",
       "2  For quilting and embroidery, this product is m...   \n",
       "3  Experiment with the haute trend of hair chalki...   \n",
       "4  From Union Creative. Turn your display shelf i...   \n",
       "\n",
       "                                            Category  \n",
       "0   Home & Kitchen Kitchen & Dining Kitchen Utens...  \n",
       "1   Toys & Games Hobbies Models & Model Kits Pre-...  \n",
       "2   Arts, Crafts & Sewing Sewing Thread & Floss S...  \n",
       "3   Beauty & Personal Care Hair Care Hair Colorin...  \n",
       "4   Toys & Games › Action Figures & Statues › Sta...  "
      ]
     },
     "execution_count": 3,
     "metadata": {},
     "output_type": "execute_result"
    }
   ],
   "source": [
    "amazon_df = pd.read_csv(\"amazon_product.csv\")\n",
    "amazon_df.head()"
   ]
  },
  {
   "cell_type": "code",
   "execution_count": 8,
   "id": "6bd8262f",
   "metadata": {},
   "outputs": [
    {
     "data": {
      "text/html": [
       "<div>\n",
       "<style scoped>\n",
       "    .dataframe tbody tr th:only-of-type {\n",
       "        vertical-align: middle;\n",
       "    }\n",
       "\n",
       "    .dataframe tbody tr th {\n",
       "        vertical-align: top;\n",
       "    }\n",
       "\n",
       "    .dataframe thead th {\n",
       "        text-align: right;\n",
       "    }\n",
       "</style>\n",
       "<table border=\"1\" class=\"dataframe\">\n",
       "  <thead>\n",
       "    <tr style=\"text-align: right;\">\n",
       "      <th></th>\n",
       "      <th>Title</th>\n",
       "      <th>Description</th>\n",
       "      <th>Category</th>\n",
       "    </tr>\n",
       "  </thead>\n",
       "  <tbody>\n",
       "    <tr>\n",
       "      <th>0</th>\n",
       "      <td>Swissmar Capstore Select Storage Rack for 18-...</td>\n",
       "      <td>Swissmar's capstore select 18 storage unit kee...</td>\n",
       "      <td>Home &amp; Kitchen Kitchen &amp; Dining Kitchen Utens...</td>\n",
       "    </tr>\n",
       "    <tr>\n",
       "      <th>1</th>\n",
       "      <td>Gemini200 Delta CV-880 Gold Crown Livery Airc...</td>\n",
       "      <td>Welcome to the exciting world of GeminiJets! O...</td>\n",
       "      <td>Toys &amp; Games Hobbies Models &amp; Model Kits Pre-...</td>\n",
       "    </tr>\n",
       "    <tr>\n",
       "      <th>2</th>\n",
       "      <td>Superior Threads 10501-2172 Magnifico Cream P...</td>\n",
       "      <td>For quilting and embroidery, this product is m...</td>\n",
       "      <td>Arts, Crafts &amp; Sewing Sewing Thread &amp; Floss S...</td>\n",
       "    </tr>\n",
       "    <tr>\n",
       "      <th>3</th>\n",
       "      <td>Fashion Angels Color Rox Hair Chox Kit</td>\n",
       "      <td>Experiment with the haute trend of hair chalki...</td>\n",
       "      <td>Beauty &amp; Personal Care Hair Care Hair Colorin...</td>\n",
       "    </tr>\n",
       "    <tr>\n",
       "      <th>4</th>\n",
       "      <td>Union Creative Giant Killing Figure 05: Daisu...</td>\n",
       "      <td>From Union Creative. Turn your display shelf i...</td>\n",
       "      <td>Toys &amp; Games › Action Figures &amp; Statues › Sta...</td>\n",
       "    </tr>\n",
       "  </tbody>\n",
       "</table>\n",
       "</div>"
      ],
      "text/plain": [
       "                                               Title  \\\n",
       "0   Swissmar Capstore Select Storage Rack for 18-...   \n",
       "1   Gemini200 Delta CV-880 Gold Crown Livery Airc...   \n",
       "2   Superior Threads 10501-2172 Magnifico Cream P...   \n",
       "3            Fashion Angels Color Rox Hair Chox Kit    \n",
       "4   Union Creative Giant Killing Figure 05: Daisu...   \n",
       "\n",
       "                                         Description  \\\n",
       "0  Swissmar's capstore select 18 storage unit kee...   \n",
       "1  Welcome to the exciting world of GeminiJets! O...   \n",
       "2  For quilting and embroidery, this product is m...   \n",
       "3  Experiment with the haute trend of hair chalki...   \n",
       "4  From Union Creative. Turn your display shelf i...   \n",
       "\n",
       "                                            Category  \n",
       "0   Home & Kitchen Kitchen & Dining Kitchen Utens...  \n",
       "1   Toys & Games Hobbies Models & Model Kits Pre-...  \n",
       "2   Arts, Crafts & Sewing Sewing Thread & Floss S...  \n",
       "3   Beauty & Personal Care Hair Care Hair Colorin...  \n",
       "4   Toys & Games › Action Figures & Statues › Sta...  "
      ]
     },
     "execution_count": 8,
     "metadata": {},
     "output_type": "execute_result"
    }
   ],
   "source": [
    "amazon_df.drop(\"id\", axis=1, inplace=True)\n",
    "amazon_df.head()"
   ]
  },
  {
   "cell_type": "markdown",
   "id": "93700212",
   "metadata": {},
   "source": [
    "## Handling Null Values"
   ]
  },
  {
   "cell_type": "code",
   "execution_count": 9,
   "id": "e59c7b4b",
   "metadata": {},
   "outputs": [
    {
     "data": {
      "text/plain": [
       "Title          0\n",
       "Description    0\n",
       "Category       0\n",
       "dtype: int64"
      ]
     },
     "execution_count": 9,
     "metadata": {},
     "output_type": "execute_result"
    }
   ],
   "source": [
    "amazon_df.isnull().sum()"
   ]
  },
  {
   "cell_type": "markdown",
   "id": "ea32934b",
   "metadata": {},
   "source": [
    "## NLP"
   ]
  },
  {
   "cell_type": "code",
   "execution_count": 10,
   "id": "1078f8a0",
   "metadata": {},
   "outputs": [],
   "source": [
    "from nltk.stem.snowball import SnowballStemmer\n",
    "stemmer = SnowballStemmer('english')\n",
    "\n",
    "def tokenize_stem(text):\n",
    "    tokens = nltk.word_tokenize(text.lower())\n",
    "    stemmed = [stemmer.stem(w) for w in tokens]\n",
    "    return \" \".join(stemmed)"
   ]
  },
  {
   "cell_type": "code",
   "execution_count": 18,
   "id": "022d1b52",
   "metadata": {},
   "outputs": [
    {
     "data": {
      "text/html": [
       "<div>\n",
       "<style scoped>\n",
       "    .dataframe tbody tr th:only-of-type {\n",
       "        vertical-align: middle;\n",
       "    }\n",
       "\n",
       "    .dataframe tbody tr th {\n",
       "        vertical-align: top;\n",
       "    }\n",
       "\n",
       "    .dataframe thead th {\n",
       "        text-align: right;\n",
       "    }\n",
       "</style>\n",
       "<table border=\"1\" class=\"dataframe\">\n",
       "  <thead>\n",
       "    <tr style=\"text-align: right;\">\n",
       "      <th></th>\n",
       "      <th>Title</th>\n",
       "      <th>Description</th>\n",
       "      <th>Category</th>\n",
       "      <th>stemmed_tokens</th>\n",
       "    </tr>\n",
       "  </thead>\n",
       "  <tbody>\n",
       "    <tr>\n",
       "      <th>0</th>\n",
       "      <td>Swissmar Capstore Select Storage Rack for 18-...</td>\n",
       "      <td>Swissmar's capstore select 18 storage unit kee...</td>\n",
       "      <td>Home &amp; Kitchen Kitchen &amp; Dining Kitchen Utens...</td>\n",
       "      <td>swissmar capstor select storag rack for 18-pac...</td>\n",
       "    </tr>\n",
       "    <tr>\n",
       "      <th>1</th>\n",
       "      <td>Gemini200 Delta CV-880 Gold Crown Livery Airc...</td>\n",
       "      <td>Welcome to the exciting world of GeminiJets! O...</td>\n",
       "      <td>Toys &amp; Games Hobbies Models &amp; Model Kits Pre-...</td>\n",
       "      <td>gemini200 delta cv-880 gold crown liveri aircr...</td>\n",
       "    </tr>\n",
       "    <tr>\n",
       "      <th>2</th>\n",
       "      <td>Superior Threads 10501-2172 Magnifico Cream P...</td>\n",
       "      <td>For quilting and embroidery, this product is m...</td>\n",
       "      <td>Arts, Crafts &amp; Sewing Sewing Thread &amp; Floss S...</td>\n",
       "      <td>superior thread 10501-2172 magnifico cream puf...</td>\n",
       "    </tr>\n",
       "    <tr>\n",
       "      <th>3</th>\n",
       "      <td>Fashion Angels Color Rox Hair Chox Kit</td>\n",
       "      <td>Experiment with the haute trend of hair chalki...</td>\n",
       "      <td>Beauty &amp; Personal Care Hair Care Hair Colorin...</td>\n",
       "      <td>fashion angel color rox hair chox kit experi w...</td>\n",
       "    </tr>\n",
       "    <tr>\n",
       "      <th>4</th>\n",
       "      <td>Union Creative Giant Killing Figure 05: Daisu...</td>\n",
       "      <td>From Union Creative. Turn your display shelf i...</td>\n",
       "      <td>Toys &amp; Games › Action Figures &amp; Statues › Sta...</td>\n",
       "      <td>union creativ giant kill figur 05 : daisuk tsu...</td>\n",
       "    </tr>\n",
       "  </tbody>\n",
       "</table>\n",
       "</div>"
      ],
      "text/plain": [
       "                                               Title  \\\n",
       "0   Swissmar Capstore Select Storage Rack for 18-...   \n",
       "1   Gemini200 Delta CV-880 Gold Crown Livery Airc...   \n",
       "2   Superior Threads 10501-2172 Magnifico Cream P...   \n",
       "3            Fashion Angels Color Rox Hair Chox Kit    \n",
       "4   Union Creative Giant Killing Figure 05: Daisu...   \n",
       "\n",
       "                                         Description  \\\n",
       "0  Swissmar's capstore select 18 storage unit kee...   \n",
       "1  Welcome to the exciting world of GeminiJets! O...   \n",
       "2  For quilting and embroidery, this product is m...   \n",
       "3  Experiment with the haute trend of hair chalki...   \n",
       "4  From Union Creative. Turn your display shelf i...   \n",
       "\n",
       "                                            Category  \\\n",
       "0   Home & Kitchen Kitchen & Dining Kitchen Utens...   \n",
       "1   Toys & Games Hobbies Models & Model Kits Pre-...   \n",
       "2   Arts, Crafts & Sewing Sewing Thread & Floss S...   \n",
       "3   Beauty & Personal Care Hair Care Hair Colorin...   \n",
       "4   Toys & Games › Action Figures & Statues › Sta...   \n",
       "\n",
       "                                      stemmed_tokens  \n",
       "0  swissmar capstor select storag rack for 18-pac...  \n",
       "1  gemini200 delta cv-880 gold crown liveri aircr...  \n",
       "2  superior thread 10501-2172 magnifico cream puf...  \n",
       "3  fashion angel color rox hair chox kit experi w...  \n",
       "4  union creativ giant kill figur 05 : daisuk tsu...  "
      ]
     },
     "execution_count": 18,
     "metadata": {},
     "output_type": "execute_result"
    }
   ],
   "source": [
    "amazon_df[\"stemmed_tokens\"] = amazon_df.apply(lambda row:tokenize_stem(row[\"Title\"] + \" \" + row[\"Description\"]),axis=1)\n",
    "amazon_df.head()"
   ]
  },
  {
   "cell_type": "code",
   "execution_count": 21,
   "id": "96ac05a7",
   "metadata": {},
   "outputs": [],
   "source": [
    "from sklearn.feature_extraction.text import TfidfVectorizer\n",
    "from sklearn.metrics.pairwise import cosine_similarity\n",
    "\n",
    "tfidfv = TfidfVectorizer(tokenizer=tokenize_stem)\n",
    "\n",
    "def cosine_sim(txt1, txt2):\n",
    "    matrix = tfidfv.fit_transform([txt1,txt2])\n",
    "    return cosine_similarity(matrix)"
   ]
  },
  {
   "cell_type": "code",
   "execution_count": 35,
   "id": "717d6596",
   "metadata": {},
   "outputs": [],
   "source": [
    "def search_product(query):\n",
    "    stemmed_query = tokenize_stem(query)\n",
    "    \n",
    "    # Calculating cosine similarity between query and stemmed tokens columns\n",
    "    amazon_df[\"similarity\"] = amazon_df[\"stemmed_tokens\"].apply(lambda x: cosine_sim(stemmed_query, x)[0, 1] if len(x) > 0 else 0)\n",
    "    res = amazon_df.sort_values(by=[\"similarity\"], ascending=False).head(10)[[\"Title\", \"Description\", \"Category\"]]\n",
    "    return res"
   ]
  },
  {
   "cell_type": "code",
   "execution_count": 38,
   "id": "62249243",
   "metadata": {},
   "outputs": [
    {
     "name": "stderr",
     "output_type": "stream",
     "text": [
      "/Users/apple/anaconda3/lib/python3.11/site-packages/sklearn/feature_extraction/text.py:525: UserWarning: The parameter 'token_pattern' will not be used since 'tokenizer' is not None'\n",
      "  warnings.warn(\n"
     ]
    },
    {
     "data": {
      "text/html": [
       "<div>\n",
       "<style scoped>\n",
       "    .dataframe tbody tr th:only-of-type {\n",
       "        vertical-align: middle;\n",
       "    }\n",
       "\n",
       "    .dataframe tbody tr th {\n",
       "        vertical-align: top;\n",
       "    }\n",
       "\n",
       "    .dataframe thead th {\n",
       "        text-align: right;\n",
       "    }\n",
       "</style>\n",
       "<table border=\"1\" class=\"dataframe\">\n",
       "  <thead>\n",
       "    <tr style=\"text-align: right;\">\n",
       "      <th></th>\n",
       "      <th>Title</th>\n",
       "      <th>Description</th>\n",
       "      <th>Category</th>\n",
       "    </tr>\n",
       "  </thead>\n",
       "  <tbody>\n",
       "    <tr>\n",
       "      <th>1</th>\n",
       "      <td>Gemini200 Delta CV-880 Gold Crown Livery Airc...</td>\n",
       "      <td>Welcome to the exciting world of GeminiJets! O...</td>\n",
       "      <td>Toys &amp; Games Hobbies Models &amp; Model Kits Pre-...</td>\n",
       "    </tr>\n",
       "    <tr>\n",
       "      <th>150</th>\n",
       "      <td>PM Company Perfection Credit/Debit Verificati...</td>\n",
       "      <td>Sold as a carton of 10 rolls, 1 ribbon, 1 clea...</td>\n",
       "      <td>Office Products Office &amp; School Supplies Pape...</td>\n",
       "    </tr>\n",
       "    <tr>\n",
       "      <th>451</th>\n",
       "      <td>Premium Compatibles Inc. 310-8401PC Ink and T...</td>\n",
       "      <td>Premium Compatibles Inc. PCI Brand 310-8400PCI...</td>\n",
       "      <td>Office Products › Office &amp; School Supplies › ...</td>\n",
       "    </tr>\n",
       "    <tr>\n",
       "      <th>482</th>\n",
       "      <td>Arthur Imaging Compatible Ink Cartridge Repla...</td>\n",
       "      <td>Arthur Imaging Compatible Ink Cartridge Replac...</td>\n",
       "      <td>Office Products › Office &amp; School Supplies › ...</td>\n",
       "    </tr>\n",
       "    <tr>\n",
       "      <th>597</th>\n",
       "      <td>Cooper-Atkins 212-158-8 Bi-Metals Dry Storage...</td>\n",
       "      <td>The HACCP thermometer is brightly colored and ...</td>\n",
       "      <td>Industrial &amp; Scientific › Test, Measure &amp; Ins...</td>\n",
       "    </tr>\n",
       "    <tr>\n",
       "      <th>248</th>\n",
       "      <td>Insinger DE1-115 Auxiliary Contact 98220-332</td>\n",
       "      <td>DE1-115, AUX CONTACT 98220-332. Insinger Genui...</td>\n",
       "      <td>Appliances › Parts &amp; Accessories › Cooktop Pa...</td>\n",
       "    </tr>\n",
       "    <tr>\n",
       "      <th>206</th>\n",
       "      <td>Filofax 2018 Personal/Compact Academic Week t...</td>\n",
       "      <td>Over the years, the Filofax organizer has evol...</td>\n",
       "      <td>Office Products › Office &amp; School Supplies › ...</td>\n",
       "    </tr>\n",
       "    <tr>\n",
       "      <th>183</th>\n",
       "      <td>Patch Cable - RJ-45 - Male - RJ-45 - Male - 1...</td>\n",
       "      <td>As a global leader in power availability solut...</td>\n",
       "      <td>Electronics › Computers &amp; Accessories › Compu...</td>\n",
       "    </tr>\n",
       "    <tr>\n",
       "      <th>589</th>\n",
       "      <td>Akashiya Barrier Mini Card Sleeves (50 Piece)...</td>\n",
       "      <td>High quality card sleeves from KMC, card sleev...</td>\n",
       "      <td>Toys &amp; Games Games Card Games</td>\n",
       "    </tr>\n",
       "    <tr>\n",
       "      <th>435</th>\n",
       "      <td>Vickerman Wreath with 180 PVC tips &amp; 50 Dura-...</td>\n",
       "      <td>24\" Purple wreath featuring 180 PVC tips and 5...</td>\n",
       "      <td>Home &amp; Kitchen › Seasonal Décor › Wreaths, Ga...</td>\n",
       "    </tr>\n",
       "  </tbody>\n",
       "</table>\n",
       "</div>"
      ],
      "text/plain": [
       "                                                 Title  \\\n",
       "1     Gemini200 Delta CV-880 Gold Crown Livery Airc...   \n",
       "150   PM Company Perfection Credit/Debit Verificati...   \n",
       "451   Premium Compatibles Inc. 310-8401PC Ink and T...   \n",
       "482   Arthur Imaging Compatible Ink Cartridge Repla...   \n",
       "597   Cooper-Atkins 212-158-8 Bi-Metals Dry Storage...   \n",
       "248      Insinger DE1-115 Auxiliary Contact 98220-332    \n",
       "206   Filofax 2018 Personal/Compact Academic Week t...   \n",
       "183   Patch Cable - RJ-45 - Male - RJ-45 - Male - 1...   \n",
       "589   Akashiya Barrier Mini Card Sleeves (50 Piece)...   \n",
       "435   Vickerman Wreath with 180 PVC tips & 50 Dura-...   \n",
       "\n",
       "                                           Description  \\\n",
       "1    Welcome to the exciting world of GeminiJets! O...   \n",
       "150  Sold as a carton of 10 rolls, 1 ribbon, 1 clea...   \n",
       "451  Premium Compatibles Inc. PCI Brand 310-8400PCI...   \n",
       "482  Arthur Imaging Compatible Ink Cartridge Replac...   \n",
       "597  The HACCP thermometer is brightly colored and ...   \n",
       "248  DE1-115, AUX CONTACT 98220-332. Insinger Genui...   \n",
       "206  Over the years, the Filofax organizer has evol...   \n",
       "183  As a global leader in power availability solut...   \n",
       "589  High quality card sleeves from KMC, card sleev...   \n",
       "435  24\" Purple wreath featuring 180 PVC tips and 5...   \n",
       "\n",
       "                                              Category  \n",
       "1     Toys & Games Hobbies Models & Model Kits Pre-...  \n",
       "150   Office Products Office & School Supplies Pape...  \n",
       "451   Office Products › Office & School Supplies › ...  \n",
       "482   Office Products › Office & School Supplies › ...  \n",
       "597   Industrial & Scientific › Test, Measure & Ins...  \n",
       "248   Appliances › Parts & Accessories › Cooktop Pa...  \n",
       "206   Office Products › Office & School Supplies › ...  \n",
       "183   Electronics › Computers & Accessories › Compu...  \n",
       "589                     Toys & Games Games Card Games   \n",
       "435   Home & Kitchen › Seasonal Décor › Wreaths, Ga...  "
      ]
     },
     "execution_count": 38,
     "metadata": {},
     "output_type": "execute_result"
    }
   ],
   "source": [
    "search_product(amazon_df[\"Title\"][1])"
   ]
  },
  {
   "cell_type": "code",
   "execution_count": null,
   "id": "1aa5928c",
   "metadata": {},
   "outputs": [],
   "source": []
  }
 ],
 "metadata": {
  "kernelspec": {
   "display_name": "Python 3 (ipykernel)",
   "language": "python",
   "name": "python3"
  },
  "language_info": {
   "codemirror_mode": {
    "name": "ipython",
    "version": 3
   },
   "file_extension": ".py",
   "mimetype": "text/x-python",
   "name": "python",
   "nbconvert_exporter": "python",
   "pygments_lexer": "ipython3",
   "version": "3.11.5"
  }
 },
 "nbformat": 4,
 "nbformat_minor": 5
}
